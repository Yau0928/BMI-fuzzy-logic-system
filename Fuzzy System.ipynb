{
 "cells": [
  {
   "cell_type": "code",
   "execution_count": 1,
   "id": "e455ae67",
   "metadata": {},
   "outputs": [],
   "source": [
    "import numpy as np\n",
    "import pandas as pd\n",
    "import matplotlib.pyplot as plt\n",
    "import skfuzzy as fuzz\n",
    "import skfuzzy.membership as mf\n",
    "from skfuzzy import control as ctrl\n",
    "from scipy.interpolate import interp1d"
   ]
  },
  {
   "cell_type": "code",
   "execution_count": 2,
   "id": "25699fab",
   "metadata": {},
   "outputs": [],
   "source": [
    "#exporting dataset\n",
    "url = \"C:\\\\Users\\\\YAU JIA YIN\\\\Desktop\\\\School\\\\UTHM\\\\20232024\\\\SEM 5\\\\BIT33703 FUZZY SYSTEM DEVELOPMENT\\\\Project\\\\bmi.csv\"\n",
    "df = pd.read_csv(url, header = None, names=['Height', 'Weight'])"
   ]
  },
  {
   "cell_type": "code",
   "execution_count": 3,
   "id": "aa684e88",
   "metadata": {},
   "outputs": [
    {
     "data": {
      "text/html": [
       "<div>\n",
       "<style scoped>\n",
       "    .dataframe tbody tr th:only-of-type {\n",
       "        vertical-align: middle;\n",
       "    }\n",
       "\n",
       "    .dataframe tbody tr th {\n",
       "        vertical-align: top;\n",
       "    }\n",
       "\n",
       "    .dataframe thead th {\n",
       "        text-align: right;\n",
       "    }\n",
       "</style>\n",
       "<table border=\"1\" class=\"dataframe\">\n",
       "  <thead>\n",
       "    <tr style=\"text-align: right;\">\n",
       "      <th></th>\n",
       "      <th>Height</th>\n",
       "      <th>Weight</th>\n",
       "    </tr>\n",
       "  </thead>\n",
       "  <tbody>\n",
       "    <tr>\n",
       "      <th>0</th>\n",
       "      <td>174</td>\n",
       "      <td>96</td>\n",
       "    </tr>\n",
       "    <tr>\n",
       "      <th>1</th>\n",
       "      <td>189</td>\n",
       "      <td>87</td>\n",
       "    </tr>\n",
       "    <tr>\n",
       "      <th>2</th>\n",
       "      <td>185</td>\n",
       "      <td>110</td>\n",
       "    </tr>\n",
       "    <tr>\n",
       "      <th>3</th>\n",
       "      <td>195</td>\n",
       "      <td>104</td>\n",
       "    </tr>\n",
       "    <tr>\n",
       "      <th>4</th>\n",
       "      <td>149</td>\n",
       "      <td>61</td>\n",
       "    </tr>\n",
       "    <tr>\n",
       "      <th>...</th>\n",
       "      <td>...</td>\n",
       "      <td>...</td>\n",
       "    </tr>\n",
       "    <tr>\n",
       "      <th>495</th>\n",
       "      <td>150</td>\n",
       "      <td>153</td>\n",
       "    </tr>\n",
       "    <tr>\n",
       "      <th>496</th>\n",
       "      <td>184</td>\n",
       "      <td>121</td>\n",
       "    </tr>\n",
       "    <tr>\n",
       "      <th>497</th>\n",
       "      <td>141</td>\n",
       "      <td>136</td>\n",
       "    </tr>\n",
       "    <tr>\n",
       "      <th>498</th>\n",
       "      <td>150</td>\n",
       "      <td>95</td>\n",
       "    </tr>\n",
       "    <tr>\n",
       "      <th>499</th>\n",
       "      <td>173</td>\n",
       "      <td>131</td>\n",
       "    </tr>\n",
       "  </tbody>\n",
       "</table>\n",
       "<p>500 rows × 2 columns</p>\n",
       "</div>"
      ],
      "text/plain": [
       "     Height  Weight\n",
       "0       174      96\n",
       "1       189      87\n",
       "2       185     110\n",
       "3       195     104\n",
       "4       149      61\n",
       "..      ...     ...\n",
       "495     150     153\n",
       "496     184     121\n",
       "497     141     136\n",
       "498     150      95\n",
       "499     173     131\n",
       "\n",
       "[500 rows x 2 columns]"
      ]
     },
     "execution_count": 3,
     "metadata": {},
     "output_type": "execute_result"
    }
   ],
   "source": [
    "#show the data\n",
    "df"
   ]
  },
  {
   "cell_type": "code",
   "execution_count": 4,
   "id": "46bf4ee6",
   "metadata": {},
   "outputs": [],
   "source": [
    "#input variables\n",
    "height = ctrl.Antecedent(np.arange(145, 180, 1), 'height')\n",
    "weight = ctrl.Antecedent(np.arange(35, 85, 1), 'weight')\n",
    "\n",
    "#output variable\n",
    "bmi = ctrl.Consequent(np.arange(15, 31, 0.1), 'bmi')"
   ]
  },
  {
   "cell_type": "code",
   "execution_count": 5,
   "id": "084120d0",
   "metadata": {},
   "outputs": [],
   "source": [
    "#membership funtion\n",
    "height['short'] = mf.trapmf(height.universe, [120, 140, 150, 165])\n",
    "height['normal'] = mf.trapmf(height.universe, [150, 165, 165, 175])\n",
    "height['tall'] = mf.trapmf(height.universe, [160, 175, 180, 180])\n",
    "\n",
    "weight['thin'] = mf.trapmf(weight.universe, [30, 30, 40, 55])\n",
    "weight['normal'] = mf.trapmf(weight.universe, [45, 55, 55, 65])\n",
    "weight['weight'] = mf.trapmf(weight.universe, [55, 75, 85, 120])\n",
    "\n",
    "bmi['verythin'] = mf.trapmf(bmi.universe, [12, 12, 16, 17])\n",
    "bmi['thin'] = mf.trapmf(bmi.universe, [16, 17, 17.5, 18.5])\n",
    "bmi['normal'] = mf.trapmf(bmi.universe, [17.5, 18.5, 24, 25])\n",
    "bmi['weight'] = mf.trapmf(bmi.universe, [24, 25, 26, 27])\n",
    "bmi['obesity'] = mf.trapmf(bmi.universe, [26, 27, 32, 32])"
   ]
  },
  {
   "cell_type": "code",
   "execution_count": 6,
   "id": "3f536370",
   "metadata": {},
   "outputs": [],
   "source": [
    "#Rules\n",
    "rule1 = ctrl.Rule(height['short'] & weight['thin'], bmi['normal'])\n",
    "rule2 = ctrl.Rule(height['short'] & weight['normal'], bmi['weight'])\n",
    "rule3 = ctrl.Rule(height['short'] & weight['weight'], bmi['obesity'])\n",
    "rule4 = ctrl.Rule(height['normal'] & weight['thin'], bmi['thin'])\n",
    "rule5 = ctrl.Rule(height['normal'] & weight['normal'], bmi['normal'])\n",
    "rule6 = ctrl.Rule(height['normal'] & weight['weight'], bmi['weight'])\n",
    "rule7 = ctrl.Rule(height['tall'] & weight['thin'], bmi['verythin'])\n",
    "rule8 = ctrl.Rule(height['tall'] & weight['normal'], bmi['thin'])\n",
    "rule9 = ctrl.Rule(height['tall'] & weight['weight'], bmi['normal'])"
   ]
  },
  {
   "cell_type": "code",
   "execution_count": 7,
   "id": "d930fc76",
   "metadata": {},
   "outputs": [],
   "source": [
    "# Create control system\n",
    "bmi_ctrl = ctrl.ControlSystem([rule1, rule2, rule3, rule4, rule5, rule6, rule7, rule8, rule9])\n",
    "bmi_classification = ctrl.ControlSystemSimulation(bmi_ctrl)"
   ]
  },
  {
   "cell_type": "code",
   "execution_count": 8,
   "id": "eb33ad64",
   "metadata": {},
   "outputs": [],
   "source": [
    "# Classify BMI for each row in the DataFrame\n",
    "df['BMI_Classification'] = np.nan"
   ]
  },
  {
   "cell_type": "code",
   "execution_count": 9,
   "id": "c4c29113",
   "metadata": {},
   "outputs": [],
   "source": [
    "for index, row in df.iterrows():\n",
    "    # Set input values\n",
    "    bmi_classification.input['height'] = row['Height']\n",
    "    bmi_classification.input['weight'] = row['Weight']\n",
    "\n",
    "    # Compute the result\n",
    "    bmi_classification.compute()\n",
    "\n",
    "    # Assign classification to the DataFrame\n",
    "    df.at[index, 'BMI_Classification'] = bmi_classification.output['bmi']"
   ]
  },
  {
   "cell_type": "code",
   "execution_count": 10,
   "id": "2da183de",
   "metadata": {},
   "outputs": [
    {
     "name": "stdout",
     "output_type": "stream",
     "text": [
      "     Height  Weight  BMI_Classification\n",
      "0       174      96           21.398525\n",
      "1       189      87           21.250000\n",
      "2       185     110           21.250000\n",
      "3       195     104           21.250000\n",
      "4       149      61           27.317960\n",
      "..      ...     ...                 ...\n",
      "495     150     153           28.690530\n",
      "496     184     121           21.250000\n",
      "497     141     136           28.690530\n",
      "498     150      95           28.690530\n",
      "499     173     131           21.552494\n",
      "\n",
      "[500 rows x 3 columns]\n"
     ]
    }
   ],
   "source": [
    "# Show the DataFrame with BMI classification\n",
    "print(df[['Height', 'Weight', 'BMI_Classification']])"
   ]
  }
 ],
 "metadata": {
  "kernelspec": {
   "display_name": "Python 3 (ipykernel)",
   "language": "python",
   "name": "python3"
  },
  "language_info": {
   "codemirror_mode": {
    "name": "ipython",
    "version": 3
   },
   "file_extension": ".py",
   "mimetype": "text/x-python",
   "name": "python",
   "nbconvert_exporter": "python",
   "pygments_lexer": "ipython3",
   "version": "3.11.4"
  }
 },
 "nbformat": 4,
 "nbformat_minor": 5
}
